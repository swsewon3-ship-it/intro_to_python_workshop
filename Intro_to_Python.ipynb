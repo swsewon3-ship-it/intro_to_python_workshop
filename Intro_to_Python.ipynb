{
  "nbformat": 4,
  "nbformat_minor": 0,
  "metadata": {
    "colab": {
      "provenance": [],
      "include_colab_link": true
    },
    "kernelspec": {
      "name": "python3",
      "display_name": "Python 3"
    },
    "language_info": {
      "name": "python"
    }
  },
  "cells": [
    {
      "cell_type": "markdown",
      "metadata": {
        "id": "view-in-github",
        "colab_type": "text"
      },
      "source": [
        "<a href=\"https://colab.research.google.com/github/swsewon3-ship-it/intro_to_python_workshop/blob/main/Intro_to_Python.ipynb\" target=\"_parent\"><img src=\"https://colab.research.google.com/assets/colab-badge.svg\" alt=\"Open In Colab\"/></a>"
      ]
    },
    {
      "cell_type": "markdown",
      "source": [
        "# Introduction to Python\n",
        "Python is a general-purpose programming language popular among data scientists who work with text data. Learning Python fundamentals is a gateway to analyzing data, creating visualizations, composing interactive websites, scraping the internet, and conducting text analysis. This workshop is an introduction to core programming concepts such as data types, variables, and functions. We will then learn about basic control flow by writing small programs with loops and conditional statements. We will also learn to problem solve, and practice searching for answers and debugging scripts. The workshop wraps up by exposing participants to intermediate tools for further exploration."
      ],
      "metadata": {
        "id": "zul9LPcPaa2f"
      }
    },
    {
      "cell_type": "markdown",
      "source": [
        "## Why Python?\n",
        "\n",
        "- Python works on different platforms (Windows, Mac, Linux, Raspberry Pi, etc).\n",
        "- Python has a simple syntax similar to the English language.\n",
        "- Python has syntax that allows developers to write programs with fewer lines than some other programming languages.\n",
        "- Python runs on an interpreter system, meaning that code can be executed as soon as it is written. This means that prototyping can be very quick.\n",
        "- Python can be treated in a procedural way, an object-oriented way or a functional way.\n",
        "\n",
        "\n",
        "\n",
        "\n",
        "\n",
        "\n"
      ],
      "metadata": {
        "id": "2jySqGhtekEw"
      }
    },
    {
      "cell_type": "markdown",
      "source": [
        "### Python Syntax compared to other programming languages\n",
        "- Python was designed for readability, and has some similarities to the English language with influence from mathematics.\n",
        "- Python uses new lines to complete a command, as opposed to other programming languages which often use semicolons or parentheses.\n",
        "- Python relies on indentation, using whitespace, to define scope; such as the scope of loops, functions and classes. Other programming languages often use curly-brackets for this purpose."
      ],
      "metadata": {
        "id": "8rBfTry2fQH6"
      }
    },
    {
      "cell_type": "markdown",
      "source": [
        "## What is Google Colab?\n",
        "[Google Colab](https://colab.research.google.com/?utm_source=scs-index#scrollTo=qL_eyskFWx18) is a Python environment hosted in the cloud. It is based on the [Jupyter Notebook](https://jupyter.org) interface, designed to allow users to write and execute code, view output, and create visualizations.\n",
        "\n",
        "Since they are hosted in the cloud, Google Colab Notebooks are easy to share and invite others to collaborate."
      ],
      "metadata": {
        "id": "6djCRXYqbP-o"
      }
    },
    {
      "cell_type": "markdown",
      "source": [
        "### Executing a Python command in a Google Colab Notebook\n",
        "\n",
        "When you want to run a new command in your Google Colab Notebook, you will first click the `+ Code` button in the top left corner. This will initiate a new code block. Type your script in the code block, then click on the ` ▶ ` symbol on the right of the code block (you can also use the keyboard shortcut shift + return).\n",
        "\n",
        "Let's try our first command:"
      ],
      "metadata": {
        "id": "Wg-xKDWNf9ce"
      }
    },
    {
      "cell_type": "code",
      "source": [
        "print(\"Hello, World!\")"
      ],
      "metadata": {
        "id": "YR-k-qqAaTiL",
        "colab": {
          "base_uri": "https://localhost:8080/"
        },
        "outputId": "fc662114-7e87-4a22-a10f-7ea0c542a4e6"
      },
      "execution_count": 1,
      "outputs": [
        {
          "output_type": "stream",
          "name": "stdout",
          "text": [
            "Hello, World!\n"
          ]
        }
      ]
    },
    {
      "cell_type": "code",
      "source": [
        "print(\"Sewon\")\n",
        "print(\"hello\")"
      ],
      "metadata": {
        "colab": {
          "base_uri": "https://localhost:8080/"
        },
        "id": "_jqoLkOo-pcg",
        "outputId": "25ee46c3-b720-45b5-810b-46b87afa1623"
      },
      "execution_count": 4,
      "outputs": [
        {
          "output_type": "stream",
          "name": "stdout",
          "text": [
            "Sewon\n",
            "hello\n"
          ]
        }
      ]
    },
    {
      "cell_type": "code",
      "source": [
        "hello = \"안녕하세요\"\n",
        "print(hello)"
      ],
      "metadata": {
        "colab": {
          "base_uri": "https://localhost:8080/"
        },
        "id": "wLu9ObXsACAJ",
        "outputId": "f1db4053-4cb8-4d5f-fc64-84a687253a18"
      },
      "execution_count": 5,
      "outputs": [
        {
          "output_type": "stream",
          "name": "stdout",
          "text": [
            "안녕하세요\n"
          ]
        }
      ]
    },
    {
      "cell_type": "markdown",
      "source": [
        "Congrats on running your first Python script!\n",
        "\n",
        "In the command above, we asked Python to display the phrase `\"Hello, World!\"` using the `print()` function. We will get into what functions are in a moment, but just think of `print()` as a way to ask Python to display the result.   \n",
        "\n",
        "Let's try a little math:"
      ],
      "metadata": {
        "id": "bdctpM5ph2Ow"
      }
    },
    {
      "cell_type": "code",
      "source": [
        "2 + 3"
      ],
      "metadata": {
        "id": "DQ9lbRUxaaPs",
        "colab": {
          "base_uri": "https://localhost:8080/"
        },
        "outputId": "7f7861d2-bae8-474d-d0e1-75df50538b3b"
      },
      "execution_count": 6,
      "outputs": [
        {
          "output_type": "execute_result",
          "data": {
            "text/plain": [
              "5"
            ]
          },
          "metadata": {},
          "execution_count": 6
        }
      ]
    },
    {
      "cell_type": "code",
      "source": [
        "print(2+3)"
      ],
      "metadata": {
        "colab": {
          "base_uri": "https://localhost:8080/"
        },
        "id": "iKh_O4vAAxB1",
        "outputId": "d4eb00d9-f707-4564-da2d-9e95e4daaba1"
      },
      "execution_count": 7,
      "outputs": [
        {
          "output_type": "stream",
          "name": "stdout",
          "text": [
            "5\n"
          ]
        }
      ]
    },
    {
      "cell_type": "code",
      "source": [
        "14 - 10"
      ],
      "metadata": {
        "id": "TcKlDRj-jQxH",
        "colab": {
          "base_uri": "https://localhost:8080/"
        },
        "outputId": "c789d063-7ba2-4bd8-d442-786e699ac9e4"
      },
      "execution_count": 8,
      "outputs": [
        {
          "output_type": "execute_result",
          "data": {
            "text/plain": [
              "4"
            ]
          },
          "metadata": {},
          "execution_count": 8
        }
      ]
    },
    {
      "cell_type": "code",
      "source": [
        "10 * 10"
      ],
      "metadata": {
        "id": "csKk_0aSjU7b",
        "colab": {
          "base_uri": "https://localhost:8080/"
        },
        "outputId": "e8cb92ed-3992-4e42-b46f-77a305557199"
      },
      "execution_count": 9,
      "outputs": [
        {
          "output_type": "execute_result",
          "data": {
            "text/plain": [
              "100"
            ]
          },
          "metadata": {},
          "execution_count": 9
        }
      ]
    },
    {
      "cell_type": "code",
      "source": [
        "6 / 3"
      ],
      "metadata": {
        "id": "FjC7icPwjYDH",
        "colab": {
          "base_uri": "https://localhost:8080/"
        },
        "outputId": "0322d3af-bc39-470a-d6bc-f6613c610553"
      },
      "execution_count": 10,
      "outputs": [
        {
          "output_type": "execute_result",
          "data": {
            "text/plain": [
              "2.0"
            ]
          },
          "metadata": {},
          "execution_count": 10
        }
      ]
    },
    {
      "cell_type": "code",
      "source": [
        "3**2"
      ],
      "metadata": {
        "id": "HS42wARijoyH",
        "colab": {
          "base_uri": "https://localhost:8080/"
        },
        "outputId": "b5eb2482-b7d0-45cd-89b5-02d8002836aa"
      },
      "execution_count": 11,
      "outputs": [
        {
          "output_type": "execute_result",
          "data": {
            "text/plain": [
              "9"
            ]
          },
          "metadata": {},
          "execution_count": 11
        }
      ]
    },
    {
      "cell_type": "code",
      "source": [
        "21 % 4"
      ],
      "metadata": {
        "id": "2Lrpx-_ijcKE",
        "colab": {
          "base_uri": "https://localhost:8080/"
        },
        "outputId": "1b320409-8def-4e6f-d346-ce7af000674c"
      },
      "execution_count": 12,
      "outputs": [
        {
          "output_type": "execute_result",
          "data": {
            "text/plain": [
              "1"
            ]
          },
          "metadata": {},
          "execution_count": 12
        }
      ]
    },
    {
      "cell_type": "markdown",
      "source": [
        "The first four operations above are addition, subtraction, multiplication, and division, respectively. The exponent operator is two asterisks (**). The last operation is modulo, or mod, which returns the remainder after division."
      ],
      "metadata": {
        "id": "_i9f0jCxjhbR"
      }
    },
    {
      "cell_type": "markdown",
      "source": [
        "## Python Indentation\n",
        "- Indentation refers to the spaces at the beginning of a code line.\n",
        "- Python uses indentation to indicate a block of code.\n",
        "\n",
        "For example:"
      ],
      "metadata": {
        "id": "g28E90NzkW1o"
      }
    },
    {
      "cell_type": "code",
      "source": [
        "if 5 > 2:\n",
        "  print(\"Five is greater than two!\")"
      ],
      "metadata": {
        "id": "yJaKr452jgIb",
        "colab": {
          "base_uri": "https://localhost:8080/"
        },
        "outputId": "75948e26-ab40-4d9d-9e6e-fcbb14fffa54"
      },
      "execution_count": 13,
      "outputs": [
        {
          "output_type": "stream",
          "name": "stdout",
          "text": [
            "Five is greater than two!\n"
          ]
        }
      ]
    },
    {
      "cell_type": "code",
      "source": [
        "if 5 > 2:\n",
        "print(\"Five is greater than two!\")\n"
      ],
      "metadata": {
        "id": "4JnGMsHRkkBO",
        "colab": {
          "base_uri": "https://localhost:8080/",
          "height": 106
        },
        "outputId": "0ca69ea1-fb20-4e7b-cd4c-d1d1ca11b71d"
      },
      "execution_count": 18,
      "outputs": [
        {
          "output_type": "error",
          "ename": "IndentationError",
          "evalue": "expected an indented block after 'if' statement on line 1 (ipython-input-3352824148.py, line 2)",
          "traceback": [
            "\u001b[0;36m  File \u001b[0;32m\"/tmp/ipython-input-3352824148.py\"\u001b[0;36m, line \u001b[0;32m2\u001b[0m\n\u001b[0;31m    print(\"Five is greater than two!\")\u001b[0m\n\u001b[0m    ^\u001b[0m\n\u001b[0;31mIndentationError\u001b[0m\u001b[0;31m:\u001b[0m expected an indented block after 'if' statement on line 1\n"
          ]
        }
      ]
    },
    {
      "cell_type": "code",
      "source": [
        "if 2 > 5:\n",
        "    print(\"Five is greater than two!\")"
      ],
      "metadata": {
        "id": "Q_G9ZFfrDD4R"
      },
      "execution_count": 17,
      "outputs": []
    },
    {
      "cell_type": "markdown",
      "source": [
        "if 2 > 5 가 true 면 print를 하는 것인데, 이건 이 값이 틀렸기떄문에 나타나지 않음"
      ],
      "metadata": {
        "id": "oHJXnySDDfNZ"
      }
    },
    {
      "cell_type": "code",
      "source": [
        "if 5 > 2:\n",
        "  print(\"Five is greater than two!\")\n",
        "else:\n",
        "  print(\"Five is not greater than two!\")"
      ],
      "metadata": {
        "colab": {
          "base_uri": "https://localhost:8080/"
        },
        "id": "cpNnzePIDeTk",
        "outputId": "9125c964-7948-4ec0-bcdb-260ff7b49075"
      },
      "execution_count": 21,
      "outputs": [
        {
          "output_type": "stream",
          "name": "stdout",
          "text": [
            "Five is greater than two!\n"
          ]
        }
      ]
    },
    {
      "cell_type": "code",
      "source": [
        "if 2 > 2:\n",
        "  print(\"Five is greater than two!\")\n",
        "else:\n",
        "  print(\"it is not greater than two!\")"
      ],
      "metadata": {
        "id": "TPyGntG7EB5X",
        "outputId": "7094503c-8d4e-42ec-8caf-4aedcf0c877d",
        "colab": {
          "base_uri": "https://localhost:8080/"
        }
      },
      "execution_count": 23,
      "outputs": [
        {
          "output_type": "stream",
          "name": "stdout",
          "text": [
            "it is not greater than two!\n"
          ]
        }
      ]
    },
    {
      "cell_type": "markdown",
      "source": [
        "Notice how Python lets you know what type of error occurred. You can use this error message to troubleshoot your code!"
      ],
      "metadata": {
        "id": "PFkNWiyxkqW0"
      }
    },
    {
      "cell_type": "markdown",
      "source": [
        "## Variables\n",
        "\n",
        "Variables are one of the fundamental building blocks of Python. A variable is like a tiny container where you store values and data, such as filenames, words, numbers, collections of words and numbers, and more."
      ],
      "metadata": {
        "id": "MJJe__79lefp"
      }
    },
    {
      "cell_type": "markdown",
      "source": [
        "### Assigning Variables\n",
        "The variable name will point to a value that you “assign” it. You might think about variable assignment like putting a value “into” the variable, as if the variable is a little box."
      ],
      "metadata": {
        "id": "K9bwS5Yt4QrR"
      }
    },
    {
      "cell_type": "code",
      "source": [
        "new_variable = 100\n",
        "print(new_variable)"
      ],
      "metadata": {
        "id": "p1_tN-Fkkl9c",
        "colab": {
          "base_uri": "https://localhost:8080/"
        },
        "outputId": "7983cbb7-b3fa-4e21-8475-d15db28960fd"
      },
      "execution_count": 24,
      "outputs": [
        {
          "output_type": "stream",
          "name": "stdout",
          "text": [
            "100\n"
          ]
        }
      ]
    },
    {
      "cell_type": "code",
      "source": [
        "new_variable = 100\n",
        "new_variable"
      ],
      "metadata": {
        "id": "vdw5sd6DEJfB",
        "outputId": "5a728fb1-6bd2-406d-dec5-91a37cbf4817",
        "colab": {
          "base_uri": "https://localhost:8080/"
        }
      },
      "execution_count": 25,
      "outputs": [
        {
          "output_type": "execute_result",
          "data": {
            "text/plain": [
              "100"
            ]
          },
          "metadata": {},
          "execution_count": 25
        }
      ]
    },
    {
      "cell_type": "markdown",
      "source": [
        "#### Jupyter Display vs Print()\n",
        "We can check to see what’s “inside” these variables by running a cell with the variable’s name. This is one of the handiest features of a Jupyter notebook. Outside the Jupyter environment, you would need to use the print() function to display the variable."
      ],
      "metadata": {
        "id": "Cr5LwSzrmcjs"
      }
    },
    {
      "cell_type": "code",
      "source": [
        "new_variable"
      ],
      "metadata": {
        "id": "nXxd0YNomXtX",
        "colab": {
          "base_uri": "https://localhost:8080/"
        },
        "outputId": "dcf08502-00c4-48f8-9680-5122bbb67a7a"
      },
      "execution_count": 26,
      "outputs": [
        {
          "output_type": "execute_result",
          "data": {
            "text/plain": [
              "100"
            ]
          },
          "metadata": {},
          "execution_count": 26
        }
      ]
    },
    {
      "cell_type": "code",
      "source": [
        "s = new_variable\n",
        "s * 2"
      ],
      "metadata": {
        "id": "c9jswmUiEUDZ",
        "outputId": "561e7082-2d91-41cf-b386-8db99898cf74",
        "colab": {
          "base_uri": "https://localhost:8080/"
        }
      },
      "execution_count": 27,
      "outputs": [
        {
          "output_type": "execute_result",
          "data": {
            "text/plain": [
              "200"
            ]
          },
          "metadata": {},
          "execution_count": 27
        }
      ]
    },
    {
      "cell_type": "code",
      "source": [
        "text_variable = \"text\"\n",
        "text_variable*5"
      ],
      "metadata": {
        "id": "Eq5eMAkBEayg",
        "outputId": "36660c22-d487-4a63-b489-10f5de9dc18c",
        "colab": {
          "base_uri": "https://localhost:8080/",
          "height": 36
        }
      },
      "execution_count": 28,
      "outputs": [
        {
          "output_type": "execute_result",
          "data": {
            "text/plain": [
              "'texttexttexttexttext'"
            ],
            "application/vnd.google.colaboratory.intrinsic+json": {
              "type": "string"
            }
          },
          "metadata": {},
          "execution_count": 28
        }
      ]
    },
    {
      "cell_type": "code",
      "source": [
        "text_variable = \"text\"\n",
        "text_variable/2"
      ],
      "metadata": {
        "id": "554macBfEjxX",
        "outputId": "e3e99244-1450-4b58-c515-182f598c81f9",
        "colab": {
          "base_uri": "https://localhost:8080/",
          "height": 158
        }
      },
      "execution_count": 29,
      "outputs": [
        {
          "output_type": "error",
          "ename": "TypeError",
          "evalue": "unsupported operand type(s) for /: 'str' and 'int'",
          "traceback": [
            "\u001b[0;31m---------------------------------------------------------------------------\u001b[0m",
            "\u001b[0;31mTypeError\u001b[0m                                 Traceback (most recent call last)",
            "\u001b[0;32m/tmp/ipython-input-635420759.py\u001b[0m in \u001b[0;36m<cell line: 0>\u001b[0;34m()\u001b[0m\n\u001b[1;32m      1\u001b[0m \u001b[0mtext_variable\u001b[0m \u001b[0;34m=\u001b[0m \u001b[0;34m\"text\"\u001b[0m\u001b[0;34m\u001b[0m\u001b[0;34m\u001b[0m\u001b[0m\n\u001b[0;32m----> 2\u001b[0;31m \u001b[0mtext_variable\u001b[0m\u001b[0;34m/\u001b[0m\u001b[0;36m2\u001b[0m\u001b[0;34m\u001b[0m\u001b[0;34m\u001b[0m\u001b[0m\n\u001b[0m",
            "\u001b[0;31mTypeError\u001b[0m: unsupported operand type(s) for /: 'str' and 'int'"
          ]
        }
      ]
    },
    {
      "cell_type": "markdown",
      "source": [
        "You assign variables with an equals = sign. In Python, a single equals sign = is the “assignment operator.” A double equals sign == is the “real” equals sign."
      ],
      "metadata": {
        "id": "BQ6oQ9LOnJNL"
      }
    },
    {
      "cell_type": "code",
      "source": [
        "2 * 2 == 4"
      ],
      "metadata": {
        "id": "YoLOPzBUl78S",
        "colab": {
          "base_uri": "https://localhost:8080/"
        },
        "outputId": "57bd9c7e-0c64-487a-b164-ce2a804c1ffc"
      },
      "execution_count": 30,
      "outputs": [
        {
          "output_type": "execute_result",
          "data": {
            "text/plain": [
              "True"
            ]
          },
          "metadata": {},
          "execution_count": 30
        }
      ]
    },
    {
      "cell_type": "code",
      "source": [
        "other_variable = 10\n",
        "other_variable == new_variable"
      ],
      "metadata": {
        "id": "BNEoKGKcG71h",
        "outputId": "a46a15b9-782a-4f68-8d9b-741a483d577a",
        "colab": {
          "base_uri": "https://localhost:8080/"
        }
      },
      "execution_count": 33,
      "outputs": [
        {
          "output_type": "execute_result",
          "data": {
            "text/plain": [
              "False"
            ]
          },
          "metadata": {},
          "execution_count": 33
        }
      ]
    },
    {
      "cell_type": "code",
      "source": [
        "\n",
        "other_variable*10 == new_variable"
      ],
      "metadata": {
        "id": "ZaFbyEuYHFM7",
        "outputId": "5c1c7474-fa7f-417e-8d2c-52e16fa009d3",
        "colab": {
          "base_uri": "https://localhost:8080/"
        }
      },
      "execution_count": 34,
      "outputs": [
        {
          "output_type": "execute_result",
          "data": {
            "text/plain": [
              "True"
            ]
          },
          "metadata": {},
          "execution_count": 34
        }
      ]
    },
    {
      "cell_type": "markdown",
      "source": [
        "You can also store text in a variable:"
      ],
      "metadata": {
        "id": "vZPGMtjynOPK"
      }
    },
    {
      "cell_type": "code",
      "source": [
        "different_variable = \"I'm another variable!\"\n",
        "different_variable"
      ],
      "metadata": {
        "id": "kWqVgi8Bmq3D",
        "colab": {
          "base_uri": "https://localhost:8080/",
          "height": 36
        },
        "outputId": "429439c5-a5f6-4789-ed2f-68684a4712c5"
      },
      "execution_count": 35,
      "outputs": [
        {
          "output_type": "execute_result",
          "data": {
            "text/plain": [
              "\"I'm another variable!\""
            ],
            "application/vnd.google.colaboratory.intrinsic+json": {
              "type": "string"
            }
          },
          "metadata": {},
          "execution_count": 35
        }
      ]
    },
    {
      "cell_type": "code",
      "source": [
        "x = \"Hello\"\n",
        "y= \" and\"\n",
        "z = \" goodbye\"\n",
        "\n",
        "x + y"
      ],
      "metadata": {
        "id": "HU9F-q503Qi2",
        "colab": {
          "base_uri": "https://localhost:8080/",
          "height": 36
        },
        "outputId": "de23da51-33ac-4954-bdb9-0413a620b40c"
      },
      "execution_count": 37,
      "outputs": [
        {
          "output_type": "execute_result",
          "data": {
            "text/plain": [
              "'Hello and'"
            ],
            "application/vnd.google.colaboratory.intrinsic+json": {
              "type": "string"
            }
          },
          "metadata": {},
          "execution_count": 37
        }
      ]
    },
    {
      "cell_type": "code",
      "source": [
        "x+y+z"
      ],
      "metadata": {
        "id": "Z8MX71GzHU5Y",
        "outputId": "c744688f-fd63-48c8-afac-690af56a4df2",
        "colab": {
          "base_uri": "https://localhost:8080/",
          "height": 36
        }
      },
      "execution_count": 38,
      "outputs": [
        {
          "output_type": "execute_result",
          "data": {
            "text/plain": [
              "'Hello and goodbye'"
            ],
            "application/vnd.google.colaboratory.intrinsic+json": {
              "type": "string"
            }
          },
          "metadata": {},
          "execution_count": 38
        }
      ]
    },
    {
      "cell_type": "markdown",
      "source": [
        "### Naming Variables\n",
        "\n",
        "Variable names can be as long or as short as you want, and they can include:\n",
        "- upper and lower-case letters (A-Z), variable names are case sensitive\n",
        "- digits (0-9)\n",
        "- underscores (_)\n",
        "\n",
        "However, variable names cannot include:\n",
        "- other punctuation (-.!?@)\n",
        "- spaces ( )\n",
        "- a reserved Python word (print, True, list, etc...)\n",
        "\n",
        "\n"
      ],
      "metadata": {
        "id": "EwF2SrLlncbo"
      }
    },
    {
      "cell_type": "markdown",
      "source": [
        "#### Striving for Good Variable Names\n",
        "As you start to code, you will almost certainly be tempted to use extremely short variables names like f. You’ll promise yourself that you’ll definitely remember what f means. But you probably won’t.\n",
        "\n",
        "So, resist the temptation of bad variable names! Clear and precisely-named variables will:\n",
        "- make your code more readable (both to yourself and others)\n",
        "- reinforce your understanding of Python and what’s happening in the code\n",
        "- clarify and strengthen your thinking"
      ],
      "metadata": {
        "id": "y5rOkhK_4f37"
      }
    },
    {
      "cell_type": "markdown",
      "source": [
        "## Data Types\n",
        "\n",
        "There are four essential kinds of Python data with different powers and capabilities:\n",
        "- Strings (Text & Numbers in quotation marks)\n",
        "- Integers (Whole Numbers)\n",
        "- Floats (Decimal Numbers)\n",
        "- Booleans (True/False)"
      ],
      "metadata": {
        "id": "afjslLu-pCcu"
      }
    },
    {
      "cell_type": "markdown",
      "source": [
        "You can check the data type of any value by using the function type():"
      ],
      "metadata": {
        "id": "TTUt2UTtqEJ-"
      }
    },
    {
      "cell_type": "code",
      "source": [
        "type(\"Hello, World!\")"
      ],
      "metadata": {
        "id": "fQvsGMz3nTvk",
        "colab": {
          "base_uri": "https://localhost:8080/"
        },
        "outputId": "2e9ed5da-55ed-4306-b0d2-479192db9310"
      },
      "execution_count": 39,
      "outputs": [
        {
          "output_type": "execute_result",
          "data": {
            "text/plain": [
              "str"
            ]
          },
          "metadata": {},
          "execution_count": 39
        }
      ]
    },
    {
      "cell_type": "code",
      "source": [
        "type(55)"
      ],
      "metadata": {
        "id": "j_Gw4TH0qOX8",
        "colab": {
          "base_uri": "https://localhost:8080/"
        },
        "outputId": "344364bc-3b46-4acc-b456-862cc2e5741f"
      },
      "execution_count": 40,
      "outputs": [
        {
          "output_type": "execute_result",
          "data": {
            "text/plain": [
              "int"
            ]
          },
          "metadata": {},
          "execution_count": 40
        }
      ]
    },
    {
      "cell_type": "code",
      "source": [
        "type(2.5)"
      ],
      "metadata": {
        "id": "ibdiPyA-qQM_",
        "colab": {
          "base_uri": "https://localhost:8080/"
        },
        "outputId": "6b9b3ba3-d93e-4b75-b3dd-957d2d128adc"
      },
      "execution_count": 41,
      "outputs": [
        {
          "output_type": "execute_result",
          "data": {
            "text/plain": [
              "float"
            ]
          },
          "metadata": {},
          "execution_count": 41
        }
      ]
    },
    {
      "cell_type": "code",
      "source": [
        "type(True)"
      ],
      "metadata": {
        "id": "4e3Fj6Q0qSEE",
        "colab": {
          "base_uri": "https://localhost:8080/"
        },
        "outputId": "0296640b-6dfc-439a-e9e4-aea80c92245e"
      },
      "execution_count": 42,
      "outputs": [
        {
          "output_type": "execute_result",
          "data": {
            "text/plain": [
              "bool"
            ]
          },
          "metadata": {},
          "execution_count": 42
        }
      ]
    },
    {
      "cell_type": "code",
      "source": [
        "type(2==5)"
      ],
      "metadata": {
        "id": "-7cqNM2qh3yQ",
        "colab": {
          "base_uri": "https://localhost:8080/"
        },
        "outputId": "ed47cd13-4a75-4c18-cff4-5f13d15a7c6a"
      },
      "execution_count": 43,
      "outputs": [
        {
          "output_type": "execute_result",
          "data": {
            "text/plain": [
              "bool"
            ]
          },
          "metadata": {},
          "execution_count": 43
        }
      ]
    },
    {
      "cell_type": "markdown",
      "source": [
        "### Strings\n",
        "A string is a Python data type that is treated like text, even if it contains a number. Strings are always enclosed by either single quotation marks `'this is a string'` or double quotation marks `\"this is a string\"`. It doesn’t matter whether you use single or double quotation marks with strings, as long as you use the same kind on either side of the string.\n",
        "\n",
        "\n"
      ],
      "metadata": {
        "id": "S-NuK44zJXNz"
      }
    },
    {
      "cell_type": "code",
      "source": [
        "type('55')"
      ],
      "metadata": {
        "id": "cinm2iopqU_a",
        "colab": {
          "base_uri": "https://localhost:8080/"
        },
        "outputId": "886fb1c1-13c0-49d0-808b-f8a34fbee33b"
      },
      "execution_count": 48,
      "outputs": [
        {
          "output_type": "execute_result",
          "data": {
            "text/plain": [
              "str"
            ]
          },
          "metadata": {},
          "execution_count": 48
        }
      ]
    },
    {
      "cell_type": "code",
      "source": [
        "print('55')"
      ],
      "metadata": {
        "id": "Sbd9g734JHec",
        "outputId": "681c61a6-e039-4392-8c48-ad354bf28f92",
        "colab": {
          "base_uri": "https://localhost:8080/"
        }
      },
      "execution_count": 47,
      "outputs": [
        {
          "output_type": "stream",
          "name": "stdout",
          "text": [
            "55\n"
          ]
        }
      ]
    },
    {
      "cell_type": "code",
      "source": [
        "type(\"55\")"
      ],
      "metadata": {
        "id": "2H3ucJPOIno8",
        "outputId": "29fc3164-697d-4790-b4d7-75b5baada8cb",
        "colab": {
          "base_uri": "https://localhost:8080/"
        }
      },
      "execution_count": 45,
      "outputs": [
        {
          "output_type": "execute_result",
          "data": {
            "text/plain": [
              "str"
            ]
          },
          "metadata": {},
          "execution_count": 45
        }
      ]
    },
    {
      "cell_type": "code",
      "source": [
        "print(\"55\")"
      ],
      "metadata": {
        "id": "XrZzjOHvJLRQ",
        "outputId": "2c50997d-ee2d-426e-da1c-151e70d7a9d2",
        "colab": {
          "base_uri": "https://localhost:8080/"
        }
      },
      "execution_count": 49,
      "outputs": [
        {
          "output_type": "stream",
          "name": "stdout",
          "text": [
            "55\n"
          ]
        }
      ]
    },
    {
      "cell_type": "code",
      "source": [
        "type(\"Strings can contain both letters, numbers (e.g., 5), punctuation, and special characters (e.g., @)\")"
      ],
      "metadata": {
        "id": "zxRyJiSiqa0k"
      },
      "execution_count": null,
      "outputs": []
    },
    {
      "cell_type": "markdown",
      "source": [
        "### f-Strings\n",
        "A special kind of string that we’re going to use in this class is called an `f-string`. An f-string, short for formatted string literal, allows you to insert a variable directly into a string. f-strings were introduced with Python version 3.6.\n",
        "\n",
        "An f-string must begin with an f outside the quotation marks. Then, inside the quotation marks, the inserted variable must be placed within `curly brackets {}`.\n",
        "\n",
        "Let's define a variable first:"
      ],
      "metadata": {
        "id": "ryd5VUPxfQ1C"
      }
    },
    {
      "cell_type": "code",
      "source": [
        "greeting = \"Good morning!\""
      ],
      "metadata": {
        "id": "egEvNls3gW8v"
      },
      "execution_count": 51,
      "outputs": []
    },
    {
      "cell_type": "code",
      "source": [
        "print(f\"At the start of the day people say : \\n\\n'{greeting}'\")"
      ],
      "metadata": {
        "id": "7G4dMFg2gMwx",
        "colab": {
          "base_uri": "https://localhost:8080/"
        },
        "outputId": "d97a2191-32c1-429e-e03c-2ef6aeb7926f"
      },
      "execution_count": 52,
      "outputs": [
        {
          "output_type": "stream",
          "name": "stdout",
          "text": [
            "At the start of the day people say : \n",
            "\n",
            "'Good morning!'\n"
          ]
        }
      ]
    },
    {
      "cell_type": "code",
      "source": [
        "print(\"At the start of the day people say : \\n\\n'{greeting}'\")"
      ],
      "metadata": {
        "id": "yZ5YwJgOKTc3",
        "outputId": "5ff155a2-2d81-4c1f-ebe1-30367f8aba14",
        "colab": {
          "base_uri": "https://localhost:8080/"
        }
      },
      "execution_count": 53,
      "outputs": [
        {
          "output_type": "stream",
          "name": "stdout",
          "text": [
            "At the start of the day people say : \n",
            "\n",
            "'{greeting}'\n"
          ]
        }
      ]
    },
    {
      "cell_type": "markdown",
      "source": [
        "### Let's pratice!\n",
        "\n",
        "Work with your neighbor to assign values to the following variables. Add a new variable called `favorite_movie` and update the `f-string` to include a new sentence about your partner’s favorite movie."
      ],
      "metadata": {
        "id": "SJLH-cBxk-xO"
      }
    },
    {
      "cell_type": "code",
      "source": [
        "name = #Your code here\n",
        "age = #Your code here\n",
        "home_town = #Your code here\n",
        "favorite_food = #Your code here\n",
        "dog_years_age =#Your code here * 7.5\n",
        "student = False #boolean\n",
        "#favorite_movie ="
      ],
      "metadata": {
        "id": "U5IcYX6LKpT5"
      },
      "execution_count": null,
      "outputs": []
    },
    {
      "cell_type": "code",
      "source": [
        "name = \"Sewon\"\n",
        "age = 34\n",
        "home_town = \"Seoul\"\n",
        "favorite_food = \"Pizza\"\n",
        "dog_years_age = age * 7.5\n",
        "student = True\n",
        "favorite_movie = \"Harry Potter\""
      ],
      "metadata": {
        "id": "JpsvQGa3Kq7U"
      },
      "execution_count": 61,
      "outputs": []
    },
    {
      "cell_type": "code",
      "source": [
        "print(f'✨This is...{name}!✨')\n",
        "\n",
        "print(f\"\"\"{name} likes {favorite_food} and grew up in {home_town}.\n",
        "{name} is {age} years old, which is {dog_years_age} in dog years.\n",
        "The statement \"{name} is a student\" is {student}.\n",
        "{name}'s favorite movie is {favorite_movie}.\"\"\")"
      ],
      "metadata": {
        "id": "qxNQTwQ4lea3",
        "collapsed": true,
        "colab": {
          "base_uri": "https://localhost:8080/"
        },
        "outputId": "4570867f-d91b-412d-f9e0-65633bc5bdf5"
      },
      "execution_count": 66,
      "outputs": [
        {
          "output_type": "stream",
          "name": "stdout",
          "text": [
            "✨This is...Sewon!✨\n",
            "Sewon likes Pizza and grew up in Seoul.\n",
            "Sewon is 34 years old, which is 255.0 in dog years.\n",
            "The statement \"Sewon is a student\" is True.\n",
            "Sewon's favorite movie is Harry Potter.\n"
          ]
        }
      ]
    },
    {
      "cell_type": "code",
      "source": [],
      "metadata": {
        "id": "Fq_Rbb-3Mb5H"
      },
      "execution_count": null,
      "outputs": []
    },
    {
      "cell_type": "markdown",
      "source": [
        "## Comments\n",
        "\n",
        "Notice how in the exercise above some of the code begins with `#`? This is what is called a comment and Python knows to ignore what comes after the `#`.\n",
        "\n",
        "Comments can be used:\n",
        "- to explain Python code.\n",
        "- to make the code more readable.\n",
        "- to prevent execution when testing code.\n",
        "\n"
      ],
      "metadata": {
        "id": "WRQim5SzmkNF"
      }
    },
    {
      "cell_type": "code",
      "source": [
        "#This is a comment\n",
        "print(\"Hello, World!\")"
      ],
      "metadata": {
        "id": "v-K23omvm_t7",
        "colab": {
          "base_uri": "https://localhost:8080/"
        },
        "outputId": "5141ea8e-6d2f-4a98-b73f-94934b66e714"
      },
      "execution_count": 67,
      "outputs": [
        {
          "output_type": "stream",
          "name": "stdout",
          "text": [
            "Hello, World!\n"
          ]
        }
      ]
    },
    {
      "cell_type": "code",
      "source": [
        "print(\"Hello, World!\") #Comments can be placed at the end of a line"
      ],
      "metadata": {
        "id": "5kePYjUNnEEY"
      },
      "execution_count": null,
      "outputs": []
    },
    {
      "cell_type": "code",
      "source": [
        "#A comment does not have to be text that explains the code, it can also be used to prevent Python from executing code:\n",
        "\n",
        "#print(\"Hello, World!\")\n",
        "print(\"Cheers, Mate!\")"
      ],
      "metadata": {
        "id": "SPUGYJi2nL3C",
        "colab": {
          "base_uri": "https://localhost:8080/"
        },
        "outputId": "874ec9ae-a151-497b-c7fd-2a42b1e262b9"
      },
      "execution_count": 68,
      "outputs": [
        {
          "output_type": "stream",
          "name": "stdout",
          "text": [
            "Cheers, Mate!\n"
          ]
        }
      ]
    },
    {
      "cell_type": "markdown",
      "source": [
        "## Functions\n",
        "\n",
        "Broadly defined, a `function` is a block of reusable code that performs a specific task. Often, a function takes an input, transforms the input, and returns an output.\n",
        "\n",
        "Imagine, for instance, a penny press at a popular tourist attraction that accepts a penny (the input), flattens and embosses the penny (the transformation), and spits out an elongated coin with a new design, perhaps an image of the Statue of Liberty (the output)!\n",
        "\n",
        "Or, for those of you who remember high school algebra, the function f(x) = x + 1 means that given an input x, the function will return x + 1. For example, if I substituted 2 for x, my function would read f(2) = 2 + 1, or f(2) = 3. In this case, my input was 2, the transformation was to add 1, and the output was 3.\n",
        "\n",
        "These are the basic concepts that make up a function in Python as well!\n",
        "\n"
      ],
      "metadata": {
        "id": "Oy4zGxslrtKE"
      }
    },
    {
      "cell_type": "markdown",
      "source": [
        "### Writing Your First Function\n",
        "Let's write a Python function that prints the output from our algebraic equation `f(x) = x + 1` above. Try running the code in the code block below."
      ],
      "metadata": {
        "id": "GptEVtOn5OEx"
      }
    },
    {
      "cell_type": "code",
      "source": [
        "def add_one(x):\n",
        "  print(x + 1)\n",
        "add_one(2)"
      ],
      "metadata": {
        "id": "cIlM5pJqscgP"
      },
      "execution_count": null,
      "outputs": []
    },
    {
      "cell_type": "markdown",
      "source": [
        "As output, you should get the number 3. Let's break this code down to understand how it works.\n",
        "\n",
        "First, we create a function:\n",
        "\n",
        "```python\n",
        "def add_one(x):\n",
        "  print(x + 1)\n",
        "```\n",
        "\n",
        "When creating a function, we begin by writing `def` before our chosen function name.\n",
        "\n",
        "The function name is typically descriptive in nature. We named the above function `add_one` following Python naming conventions, as the function will be ADDING 1 to our inputted integer.\n",
        "\n",
        "We always need a closed parentheses `()` after our function name, which in this case, takes one `argument` (or input), which we will temporarily call `x` (we can name this parameter whatever we want, as long as we use the same name within the body of the function).\n",
        "\n",
        "Then, we end the first line with a `:`, return, and indent by 2 spaces to write code describing what this function should \"do.\" In this case, we want the function to `print` the result of adding 1 to our input, or x. Remember, we need parentheses every time we print something!\n",
        "\n",
        "Next, if we want to call our function, we will need to actually pass in an argument to see a result. To do so, we write the following line of code below our function (making sure this next line isn't indented):\n",
        "\n",
        "```python\n",
        "add_one(2)\n",
        "```\n",
        "\n",
        "Here, we are telling the computer to pass in `2` to see if we get our expected output of `3`.\n",
        "\n",
        "Creating a whole function just to add \"one\" to something may seem unnecessarily complicated, but once you have learned the basics of function-writing, the possibilities are powerful and limitless!\n",
        "\n"
      ],
      "metadata": {
        "id": "8OOtTcNCtknQ"
      }
    },
    {
      "cell_type": "markdown",
      "source": [
        "### Writing your Second Function\n",
        "\n",
        "Our functions do not have to be \"mathematical\" in nature. Let's say that I wanted to say a friendly hello, but didn't want to type out a long sentence every time I wanted to do so. We could automate this process with a function. In the code block below, write the following lines:\n",
        "\n",
        "```python\n",
        "def greet():\n",
        "    print(\"Hello! How are you today?\")\n",
        "greet()\n",
        "```\n",
        "\n",
        "First we define our `greet()` function, and add a line to print to the screen.\n",
        "\n",
        "Lastly, we call the function so it will run.\n",
        "\n",
        "You might have noticed that this time, we didn't pass in an `argument`! Note that a function doesn't have to take an input (or argument), or it can take several arguments!\n",
        "\n",
        "There is a lot of flexibility involved in writing your own functions, which you can craft carefully to do exactly what you want them to! Read more about some of the many things you can do with functions on the online web tutorial [W3Schools](https://www.w3schools.com/python/python_functions.asp)."
      ],
      "metadata": {
        "id": "XV_ZxHEY7QLf"
      }
    },
    {
      "cell_type": "code",
      "source": [
        "def greet():\n",
        "    print(\"Hello! How are you today?\")\n",
        "greet()"
      ],
      "metadata": {
        "id": "M3t3dFvAvF_Y"
      },
      "execution_count": null,
      "outputs": []
    },
    {
      "cell_type": "markdown",
      "source": [
        "#### Challenge!\n",
        "\n",
        "How could we change our greeting function to say hello to a specific person? Hint: your `print` statement will need to use string interpolation. We did this in \"Variables\" when we assigned x = \"hello\" and y =\" and goodbye\", which x + y yielded the result \"hello and goodbye\". Give it a shot in the editor below."
      ],
      "metadata": {
        "id": "H_ZHAj-625OC"
      }
    },
    {
      "cell_type": "code",
      "source": [
        "#your code here"
      ],
      "metadata": {
        "id": "-6978cAoCWZi"
      },
      "execution_count": null,
      "outputs": []
    },
    {
      "cell_type": "markdown",
      "source": [
        "### Parameters/Arguments\n",
        "\n",
        "You can add `parameters` to your functions—or values that are required by your function—by putting `parameter` names inside the `parenthese`s.\n",
        "\n",
        "For example, we could write a birthday song function and include a specific person's name by adding the parameter `personalized_name` inside the parentheses, which will require a personalized name to be passed to the function. The thing you pass to the function is called an \"argument.\"\n",
        "\n",
        "- parameter = `personalized_name` (thing that requires a value for the function)\n",
        "- argument = \"Beyonce\" (actual value passed to function)\n",
        "\n",
        "Since parameters and arguments are so interrelated, they're sometimes confused for each other. You can read [Python's official distinction here](https://docs.python.org/3.3/faq/programming.html#faq-argument-vs-parameter)."
      ],
      "metadata": {
        "id": "vRGmKDinAYyD"
      }
    },
    {
      "cell_type": "code",
      "source": [
        "def sing_personalized_happy_birthday(personalized_name):\n",
        "    print(\"Happy Birthday to you\")\n",
        "    print(\"Happy Birthday to you\")\n",
        "    print(f\"Happy Birthday dear {personalized_name}\")\n",
        "    print(\"Happy Birthday to you\")\n",
        "    return"
      ],
      "metadata": {
        "id": "syYiDtxTAg03"
      },
      "execution_count": null,
      "outputs": []
    },
    {
      "cell_type": "markdown",
      "source": [
        "We're using whatever name gets passed to the function inside an f-string: `f\"Happy Birthday dear {personalized_name}\"`"
      ],
      "metadata": {
        "id": "QQQ7r24AAmW-"
      }
    },
    {
      "cell_type": "markdown",
      "source": [
        "Once you set a parameter that requires an argument, you have to pass something inside the function for the function to run. So if we run `sing_personalized_happy_birthday()` as we did with `sing_happy_birthday()`, it won't work."
      ],
      "metadata": {
        "id": "xTdNhZVeArOz"
      }
    },
    {
      "cell_type": "code",
      "source": [
        "sing_personalized_happy_birthday()"
      ],
      "metadata": {
        "id": "y9mgCiRcAtY8"
      },
      "execution_count": null,
      "outputs": []
    },
    {
      "cell_type": "markdown",
      "source": [
        "This error is telling us that we have to pass in a value or \"argument.\""
      ],
      "metadata": {
        "id": "2b6IXKW6A06L"
      }
    },
    {
      "cell_type": "code",
      "source": [
        "sing_personalized_happy_birthday(\"Beyonce\")"
      ],
      "metadata": {
        "id": "jv6V7hp6A1cm"
      },
      "execution_count": null,
      "outputs": []
    },
    {
      "cell_type": "markdown",
      "source": [
        "### Keyword Arguments\n",
        "There's another way that you can require arguments in a function, which is with *keyword arguments*. Before we were using \"positional arguments,\" where the function automatically knew that \"Beyonce\" was the `personalized_name` argument simply because \"Beyonce\" was in the right position. (There was only one argument required)\n",
        "\n",
        "But you can also explicitly define your arguments with keyword arguments that use an `=` sign, which can become more useful if you have multiple parameters. This can also be a way of setting default values in your functions."
      ],
      "metadata": {
        "id": "_QG8hm-tBAwd"
      }
    },
    {
      "cell_type": "code",
      "source": [
        "def sing_keyword_happy_birthday(to_name='Beyonce', from_name='SIPA'):\n",
        "    print(\"Happy Birthday to you\")\n",
        "    print(\"Happy Birthday to you\")\n",
        "    print(f\"Happy Birthday dear {to_name}\")\n",
        "    print(\"Happy Birthday to you\")\n",
        "    print(f\"\\nSincerely, \\n{from_name}\")\n",
        "    return"
      ],
      "metadata": {
        "id": "Uw2D-EDIBrFh"
      },
      "execution_count": null,
      "outputs": []
    },
    {
      "cell_type": "markdown",
      "source": [
        "For example, if we don't pass in any arguments into this function, it will use the default arguments."
      ],
      "metadata": {
        "id": "E2PzMjT4CI8i"
      }
    },
    {
      "cell_type": "code",
      "source": [
        "sing_keyword_happy_birthday()"
      ],
      "metadata": {
        "id": "OFNyl-ZQB2_U"
      },
      "execution_count": null,
      "outputs": []
    },
    {
      "cell_type": "markdown",
      "source": [
        "if we set the keyword arguments to different values—even if we switch the order or position of the arguments!—the function will know which arguments they're supposed to be."
      ],
      "metadata": {
        "id": "hXjAt8P-CDLN"
      }
    },
    {
      "cell_type": "code",
      "source": [
        "sing_keyword_happy_birthday(from_name=\"Big Bird\", to_name=\"Cookie Monster\")"
      ],
      "metadata": {
        "id": "cxi-yx3WCEP5"
      },
      "execution_count": null,
      "outputs": []
    },
    {
      "cell_type": "markdown",
      "source": [
        "### Return Values\n",
        "\n",
        "In all of the examples above, we weren't returning any specific value, just using `print()` statements. But sometimes you want a specific value out of your function.\n",
        "\n",
        "`print` is a function you call. Calling `print` will immediately make your program write out text for you to see. Use `print` when you want to show a value to a human.\n",
        "\n",
        "`return` is a keyword. When a `return` statement is reached, Python will stop the execution of the current function, sending a value out to where the function was called. Use `return` when you want to send a value from one point in your code to another.\n",
        "\n",
        "Using `return` changes the flow of the program. Using `print` does not.\n",
        "\n",
        "For example, if we want to make a function that transforms a bit of text into very loud-sounding text, then we'll want to `return` that loud-sounding text."
      ],
      "metadata": {
        "id": "g1u7hyYICY-M"
      }
    },
    {
      "cell_type": "code",
      "source": [
        "def make_text_shouty(text):\n",
        "    shouty_text = text.upper()\n",
        "    return shouty_text"
      ],
      "metadata": {
        "id": "D3W7IWQHCzvY"
      },
      "execution_count": null,
      "outputs": []
    },
    {
      "cell_type": "code",
      "source": [
        "make_text_shouty(\"I like tacos\")"
      ],
      "metadata": {
        "id": "lOfBf169C2Eo"
      },
      "execution_count": null,
      "outputs": []
    },
    {
      "cell_type": "code",
      "source": [
        "def make_text_shoutier(text):\n",
        "    shouty_text = text.upper()\n",
        "    shoutier_text = shouty_text + '!!!'\n",
        "    return shoutier_text"
      ],
      "metadata": {
        "id": "aQk5gOoQC4Qc"
      },
      "execution_count": null,
      "outputs": []
    },
    {
      "cell_type": "code",
      "source": [
        "make_text_shoutier(\"I like tacos\")"
      ],
      "metadata": {
        "id": "85AO3rG8C6kB"
      },
      "execution_count": null,
      "outputs": []
    },
    {
      "cell_type": "code",
      "source": [
        "def calculate_dog_years_age(age):\n",
        "    dog_years_age = age * 7\n",
        "    return dog_years_age"
      ],
      "metadata": {
        "id": "EqjIQOKOC9pL"
      },
      "execution_count": null,
      "outputs": []
    },
    {
      "cell_type": "code",
      "source": [
        "calculate_dog_years_age(52)"
      ],
      "metadata": {
        "id": "KLZzqM2WDAHY"
      },
      "execution_count": null,
      "outputs": []
    },
    {
      "cell_type": "markdown",
      "source": [
        "#### Challenge!\n",
        "\n",
        "Make a function called `make_text_whispery` that transforms text to lower case"
      ],
      "metadata": {
        "id": "zwo8EBApDI-5"
      }
    },
    {
      "cell_type": "code",
      "source": [
        "#Your Code Here\n",
        "    whispery_text = #Your Code Here\n",
        "    return #Your Code Here"
      ],
      "metadata": {
        "id": "hLHiW3rTDQxZ"
      },
      "execution_count": null,
      "outputs": []
    },
    {
      "cell_type": "markdown",
      "source": [
        "Now insert the string \"I AM WHISPERING\" into `make_text_whispery`"
      ],
      "metadata": {
        "id": "FV43CHI4DTik"
      }
    },
    {
      "cell_type": "code",
      "source": [
        "#Your Code Here"
      ],
      "metadata": {
        "id": "j07JP6ADDT56"
      },
      "execution_count": null,
      "outputs": []
    },
    {
      "cell_type": "markdown",
      "source": [
        "## Lists\n",
        "\n",
        "One of the most common Python data collections is a `list`. Lists are a collection of values rather than individual variables.\n",
        "\n",
        "For example, we can create a list of major cities:\n",
        "\n"
      ],
      "metadata": {
        "id": "WpPK4qV358TO"
      }
    },
    {
      "cell_type": "code",
      "source": [
        "cities = ['Paris', 'New York', 'London', 'Tokyo', 'Istanbul']"
      ],
      "metadata": {
        "id": "72gOWsyx6i5r"
      },
      "execution_count": null,
      "outputs": []
    },
    {
      "cell_type": "code",
      "source": [
        "type(cities)"
      ],
      "metadata": {
        "id": "lCcbwkhy6whM"
      },
      "execution_count": null,
      "outputs": []
    },
    {
      "cell_type": "code",
      "source": [
        "cities"
      ],
      "metadata": {
        "id": "mK5L7HsR7pQE"
      },
      "execution_count": null,
      "outputs": []
    },
    {
      "cell_type": "markdown",
      "source": [
        "A list is always enclosed by square brackets `[]` and accepts items in a row separated by commas `(,)`. A list can contain any combination of Python data types."
      ],
      "metadata": {
        "id": "Zsm79HlC62he"
      }
    },
    {
      "cell_type": "code",
      "source": [
        "random_list = ['Python', 3, 10.5, True]\n",
        "type(random_list)"
      ],
      "metadata": {
        "id": "Q90Do8ap6857"
      },
      "execution_count": null,
      "outputs": []
    },
    {
      "cell_type": "code",
      "source": [
        "random_list"
      ],
      "metadata": {
        "id": "yI3c5YEc7rz6"
      },
      "execution_count": null,
      "outputs": []
    },
    {
      "cell_type": "markdown",
      "source": [
        "### Indexing Lists\n",
        "\n",
        "A useful property of a list is the `list index`. This allows you to pick out an item from within the list by a number starting from zero:\n",
        "\n",
        "For instance, add the following lines of code to the program below:\n",
        "\n",
        "```python\n",
        "print(cities[0])\n",
        "print(cities[4])\n",
        "```\n",
        "\n",
        "What do you notice?"
      ],
      "metadata": {
        "id": "BiW2yqo5715v"
      }
    },
    {
      "cell_type": "code",
      "source": [
        "cities[0]"
      ],
      "metadata": {
        "id": "LUPM7sGC8FC4"
      },
      "execution_count": null,
      "outputs": []
    },
    {
      "cell_type": "code",
      "source": [
        "cities[4]"
      ],
      "metadata": {
        "id": "RRZBNZ8V8Qcu"
      },
      "execution_count": null,
      "outputs": []
    },
    {
      "cell_type": "markdown",
      "source": [
        "Indexing lets us get at individual items from a particular list. Note that the first item in the list is `item[0]`. The second item is `item[1]`. That's because counting in Python, and in almost all programming languages, starts from 0.\n",
        "\n",
        "Additionally, you can print out the last item in a list using negative numbers, where `-1` denotes the last item in the list. For instance, if you were to add:\n",
        "\n",
        "```python\n",
        "print(cities[-1])\n",
        "```\n",
        "\n",
        "\n",
        "to the cities program, it would print the last item in the cities list. `-2` would print the second to last item, `-3` the third to last, and so on."
      ],
      "metadata": {
        "id": "cwcJb1Xv9yZm"
      }
    },
    {
      "cell_type": "code",
      "source": [
        "cities[-1]"
      ],
      "metadata": {
        "id": "KbbubGVC97u-"
      },
      "execution_count": null,
      "outputs": []
    },
    {
      "cell_type": "code",
      "source": [
        "cities[-2]"
      ],
      "metadata": {
        "id": "vcP54cSK9-qy"
      },
      "execution_count": null,
      "outputs": []
    },
    {
      "cell_type": "markdown",
      "source": [
        "### Slicing Lists\n",
        "\n",
        "There are many things you can do with list indexing, like slicing. Slicing consists of taking a section of a list, using the list index to pick out a range of list items. For example, you could take out the first two items of a list with a slice that begins with 0 and ends with 2.\n",
        "\n",
        "The slice syntax consists of square brackets, start point and end point, and a colon to indicate the gap in between. This should print out the first two items of your list. Go ahead and add the following line to the code below to see slicing in action:\n",
        "\n",
        "```python\n",
        "print(cities[0:2])\n",
        "```\n",
        "\n",
        "Note a couple of things. First, the start point is **inclusive**, meaning that Python will include the `[0]` item in your range, and the end point is exclusive, so Python won't print the `[2]` item. Instead, it will print everything up until that `[2]` item.\n",
        "\n",
        "For ultimate brevity, you can also write this expression as:\n",
        "\n",
        "```python\n",
        "print(cities[:2])\n",
        "```\n",
        "\n",
        "The empty value before the colon allows Python to assume the range starts at the first list item, at `[0]`. You can also end the slice with `:` if you want the list range to include all subsequent items until the end of the list.\n",
        "\n",
        "The example below will print everything from the second item to the end of the list.\n",
        "\n",
        "```python\n",
        "print(cities[1:])\n",
        "```\n"
      ],
      "metadata": {
        "id": "0t1iY90n-JOb"
      }
    },
    {
      "cell_type": "code",
      "source": [
        "cities[0:2]"
      ],
      "metadata": {
        "id": "CWeR1YaK-qMn"
      },
      "execution_count": null,
      "outputs": []
    },
    {
      "cell_type": "code",
      "source": [
        "cities[:2]"
      ],
      "metadata": {
        "id": "6wnjo2hk-8eo"
      },
      "execution_count": null,
      "outputs": []
    },
    {
      "cell_type": "code",
      "source": [
        "cities[1:]"
      ],
      "metadata": {
        "id": "Aa1TlWVF-_fx"
      },
      "execution_count": null,
      "outputs": []
    },
    {
      "cell_type": "markdown",
      "source": [
        "#### Challenge!\n",
        "\n",
        "Create a new list with at least 5 items in your list. Make sure the total number of items in the list is an odd number. How do you get python to print out the item in the middle of the list? What about the items books in the middle? Remember that the first value in a slice is inclusive, and the final value is exclusive."
      ],
      "metadata": {
        "id": "nEMjGRkIAUw1"
      }
    },
    {
      "cell_type": "code",
      "source": [
        "#your code here"
      ],
      "metadata": {
        "id": "8JLysWP8AsAe"
      },
      "execution_count": null,
      "outputs": []
    },
    {
      "cell_type": "markdown",
      "source": [
        "### List Methods\n",
        "\n",
        "Lists also have a number of special methods that can be used with them, such as a method for adding items to a list.\n",
        "\n",
        "| **List Method** | **Explanation**                                                                                   |\n",
        "|-------------|---------------------------------------------------------------------------------------------------|\n",
        "| `list.append(another_item)`          | adds new item to end of list                                                                                |\n",
        "| `list.extend(another_list)`        | adds items from another_list to list                                                |\n",
        "| `list.remove(item)`        | removes first instance of item                                                       |\n",
        "| `list.sort(reverse=False)`       | sort the order of list                                                                                 |                                                     |\n",
        "| `list.reverse()`       | reverses order of list                                                                                 |                                                     |\n",
        "\n"
      ],
      "metadata": {
        "id": "8HdX97dMBr_n"
      }
    },
    {
      "cell_type": "markdown",
      "source": [
        "#### Add item to list:"
      ],
      "metadata": {
        "id": "PdsksLBdDO8L"
      }
    },
    {
      "cell_type": "code",
      "source": [
        "cities"
      ],
      "metadata": {
        "id": "Bn0F4EBkCmkI"
      },
      "execution_count": null,
      "outputs": []
    },
    {
      "cell_type": "code",
      "source": [
        "cities.append('Nairobi')\n",
        "cities"
      ],
      "metadata": {
        "id": "q1CyR8pbCofo"
      },
      "execution_count": null,
      "outputs": []
    },
    {
      "cell_type": "markdown",
      "source": [
        "#### Sort List:"
      ],
      "metadata": {
        "id": "xNbtnfdgCwp8"
      }
    },
    {
      "cell_type": "code",
      "source": [
        "cities.sort()\n",
        "cities"
      ],
      "metadata": {
        "id": "BZjxk--pCzSi"
      },
      "execution_count": null,
      "outputs": []
    },
    {
      "cell_type": "code",
      "source": [
        "cities.reverse()\n",
        "cities"
      ],
      "metadata": {
        "id": "7atpRE__C-1I"
      },
      "execution_count": null,
      "outputs": []
    },
    {
      "cell_type": "markdown",
      "source": [
        "#### Extend List With Another List:"
      ],
      "metadata": {
        "id": "3FpF7-8GDLHd"
      }
    },
    {
      "cell_type": "code",
      "source": [
        "countries=['Japan', 'France', 'USA', 'Kenya', 'UK', 'Turkey']"
      ],
      "metadata": {
        "id": "BSuzYtsoDNR2"
      },
      "execution_count": null,
      "outputs": []
    },
    {
      "cell_type": "code",
      "source": [
        "countries.extend(cities)"
      ],
      "metadata": {
        "id": "brenn0rgDkEH"
      },
      "execution_count": null,
      "outputs": []
    },
    {
      "cell_type": "code",
      "source": [
        "countries"
      ],
      "metadata": {
        "id": "p4K_OE7GDtvh"
      },
      "execution_count": null,
      "outputs": []
    },
    {
      "cell_type": "markdown",
      "source": [
        "## Loops\n",
        "\n",
        "What if we want to print out each item in the list separately? For that, we'll need something called a `loop`.\n",
        "\n",
        "Add the following lines of code to the block below:\n",
        "\n",
        "```python\n",
        "for city in cities:\n",
        "    print(\"My favorite city is \" + city)\n",
        "```\n",
        "\n"
      ],
      "metadata": {
        "id": "ym0dCPUwAt6n"
      }
    },
    {
      "cell_type": "code",
      "source": [
        "for city in cities:\n",
        "    print(\"My favorite city is \" + city)"
      ],
      "metadata": {
        "id": "S9PGP0vLFSNY"
      },
      "execution_count": null,
      "outputs": []
    },
    {
      "cell_type": "markdown",
      "source": [
        "### For Loops\n",
        "What's happening here? This kind of loop is called a `for loop`, and tells Python: \"for each item in the list, do something.\"\n",
        "\n",
        "A basic basic for loop will consist of two lines:\n",
        "- On the first line, you type the English word for, a new variable name for each item in the list, the English word in, the name of the list, and a colon (:)\n",
        "- On the second line, you indent and write an instruction or “statement” to be completed for each item in the list\n",
        "\n",
        "Let's break it down:\n",
        "\n",
        "```python\n",
        "for <variable name> in <list name>:\n",
        "    <do something>\n",
        "```\n",
        "\n",
        "Indented code like this is known as a \"code block.\" Python will run the `<do something>` code in the code block once for each item in the list. You can also refer to `<variable name>` in the `<do something>` block.\n",
        "\n",
        "You can also loop through items within a string. Type the following code into the editor below:\n",
        "\n",
        "```python\n",
        "for letter in \"hello\":\n",
        "    print(letter)\n",
        "```"
      ],
      "metadata": {
        "id": "jUaG0uRuA_Jt"
      }
    },
    {
      "cell_type": "code",
      "source": [
        "for letter in \"hello\":\n",
        "    print(letter)"
      ],
      "metadata": {
        "id": "nq4OR4yTBN6Y"
      },
      "execution_count": null,
      "outputs": []
    },
    {
      "cell_type": "markdown",
      "source": [
        "#### Challenge!\n",
        "\n",
        "Here's a list of numbers:\n",
        "\n",
        "```python\n",
        "prime_numbers = [2, 3, 5, 7, 11]\n",
        "```\n",
        "\n",
        "Write some code to print out the square of each of these numbers. Remember that the square of a number is that number times itself."
      ],
      "metadata": {
        "id": "x847JW6_BYM4"
      }
    },
    {
      "cell_type": "code",
      "source": [
        "#your code here"
      ],
      "metadata": {
        "id": "u4NgYV1bB2VQ"
      },
      "execution_count": null,
      "outputs": []
    },
    {
      "cell_type": "markdown",
      "source": [
        "Now try writing a for loop using an f-string (see above for definition) to get the following output:\n",
        "\n",
        "```python\n",
        "The square of 2 is 4.\n",
        "The square of 3 is 9.\n",
        "The square of 5 is 25.\n",
        "The square of 7 is 49.\n",
        "The square of 11 is 121.\n",
        "```\n"
      ],
      "metadata": {
        "id": "g-Yov38iCFya"
      }
    },
    {
      "cell_type": "code",
      "source": [
        "#your code here"
      ],
      "metadata": {
        "id": "7V3ct7F7CSrQ"
      },
      "execution_count": null,
      "outputs": []
    },
    {
      "cell_type": "markdown",
      "source": [
        "### Enumerate Loops\n",
        "You might want to keep a numerical count or index of items in a list. To print out each item in the list with a corresponding number, you can use the built-in Python function `enumerate()`.\n",
        "\n",
        "To access the number that corresponds to each item, you need to unpack two variables instead of just one: `number` , `city`\n",
        "\n",
        "Let's first take a look at our cities list again. Then, we can write our indexed for loop:"
      ],
      "metadata": {
        "id": "ry8S6bk5FLFk"
      }
    },
    {
      "cell_type": "code",
      "source": [
        "cities"
      ],
      "metadata": {
        "id": "4dDHWtPAFXoQ"
      },
      "execution_count": null,
      "outputs": []
    },
    {
      "cell_type": "code",
      "source": [
        "for number, city in enumerate(cities):\n",
        "    print(number, city)"
      ],
      "metadata": {
        "id": "jdy2oLPPFZSl"
      },
      "execution_count": null,
      "outputs": []
    },
    {
      "cell_type": "markdown",
      "source": [
        "#### Challenge!\n",
        "\n",
        "Write a for loop using an f-string to get the following output:\n",
        "\n",
        "```python\n",
        "Tokyo is indexed at 0\n",
        "Paris is indexed at 1\n",
        "New York is indexed at 2\n",
        "Nairobi is indexed at 3\n",
        "London is indexed at 4\n",
        "Istanbul is indexed at 5\n",
        "```"
      ],
      "metadata": {
        "id": "yyofKiKVNxKU"
      }
    },
    {
      "cell_type": "code",
      "source": [
        "#your code here"
      ],
      "metadata": {
        "id": "jqhqXd2uGFu6"
      },
      "execution_count": null,
      "outputs": []
    },
    {
      "cell_type": "markdown",
      "source": [
        "### Build a List with a For Loop\n",
        "We can also make lists with for loops. Let’s say we wanted to take this list collection and create a new list that only contains the items in the list that match `'item we want'`."
      ],
      "metadata": {
        "id": "K1ruzOAaPEJf"
      }
    },
    {
      "cell_type": "code",
      "source": [
        "collection = ['item', 'item we want', 'item', 'item', 'item we want']"
      ],
      "metadata": {
        "id": "bxwNuCS6PIDA"
      },
      "execution_count": null,
      "outputs": []
    },
    {
      "cell_type": "markdown",
      "source": [
        "To do so, we could make an empty list by assigning `empty_list` the value of `[]`—that is, a list with nothing inside of it.\n",
        "Then, we could use a for loop to iterate through collection. If an item equals `\"item we want\"`, then we will `.append()` that item to our previously empty list.\n",
        "\n"
      ],
      "metadata": {
        "id": "Ob3LY9sFPKwo"
      }
    },
    {
      "cell_type": "code",
      "source": [
        "empty_list = []\n",
        "for item in collection:\n",
        "    if item == \"item we want\":\n",
        "        empty_list.append(item)"
      ],
      "metadata": {
        "id": "eBZoctNiPO8b"
      },
      "execution_count": null,
      "outputs": []
    },
    {
      "cell_type": "code",
      "source": [
        "empty_list"
      ],
      "metadata": {
        "id": "Gu8qITG9Pmbv"
      },
      "execution_count": null,
      "outputs": []
    },
    {
      "cell_type": "markdown",
      "source": [
        "## Comparisons\n",
        "\n",
        "There are many ways that we can compare values with Python, such as equals (`==`), not equals (`!=`), greater than (`>`), less than (`<`), greater than or equal to (`>=`), or less than or equal to (`<=`).\n",
        "\n",
        "| **Comparison Operator** | **Explanation**                                                                                   |\n",
        "|:-------------:|:---------------------------------------------------------------------------------------------------:|\n",
        "| `x == y `         | `True` if x is equal to y                                                                                |\n",
        "| `x != y `         | `True` if x is not equal to y                                               |\n",
        "| `x > y`       |  `True` if x is greater than y                                                        |\n",
        "| `x < y`       |   `True` if x is less than y  \n",
        "| `x >= y`       |   `True` if x is greater than or equal to y |\n",
        "| `x <= y`      | `True` if x is less than or equal to y`                                                                             |\n",
        "                                                                      \n",
        "                                                          "
      ],
      "metadata": {
        "id": "_lQhX8TxQf03"
      }
    },
    {
      "cell_type": "markdown",
      "source": [
        "### Greater Than\n",
        "\n",
        "Is the variable `person1` greater than `person1`?\n"
      ],
      "metadata": {
        "id": "HFTdCfjdEXU1"
      }
    },
    {
      "cell_type": "code",
      "source": [
        "person1 = 30\n",
        "person2 = 30.5\n",
        "person1 > person2"
      ],
      "metadata": {
        "id": "uCpClpaLROfy"
      },
      "execution_count": null,
      "outputs": []
    },
    {
      "cell_type": "markdown",
      "source": [
        "### Not Equals\n",
        "Is the variable `person1` not equal to `person1`?"
      ],
      "metadata": {
        "id": "Y1yBhpIIRWOw"
      }
    },
    {
      "cell_type": "code",
      "source": [
        "person1 = 30\n",
        "person2 = 30.5\n",
        "person1 != person2"
      ],
      "metadata": {
        "id": "Jcd8xwQnRaGw"
      },
      "execution_count": null,
      "outputs": []
    },
    {
      "cell_type": "markdown",
      "source": [
        "We can also combine values and compare them. We can check to see if `x and y` are both `True` or if either `x or y` is `True`."
      ],
      "metadata": {
        "id": "8Xe-jl3JRhLK"
      }
    },
    {
      "cell_type": "markdown",
      "source": [
        "| **Logical Operator** | **Explanation**                                                                                   |\n",
        "|:-------------:|:---------------------------------------------------------------------------------------------------:|\n",
        "| `x and y`         | `True` if x and y are both True                                                                             |\n",
        "| `x or y`         | `True` if either x or y is True                                              |\n",
        "| `not x`       |  `True` if is x is not True                                                       |\n",
        "                                                  \n",
        "\n",
        "### And\n",
        "What will happen if we check whether `person1 > 30` and `person2 > 30`?"
      ],
      "metadata": {
        "id": "QlRO6pLRRhTK"
      }
    },
    {
      "cell_type": "code",
      "source": [
        "person1 = 30\n",
        "person2 = 30.5\n",
        "person1 > 30 and person2 > 30"
      ],
      "metadata": {
        "id": "-P7FAwn6RtwU"
      },
      "execution_count": null,
      "outputs": []
    },
    {
      "cell_type": "markdown",
      "source": [
        "The boolean answer is `False` because `person1` is not greater than 30 (`person1` is exactly 30) even though `person2` is greater than 30. The `and` requires that both conditions are `True.`"
      ],
      "metadata": {
        "id": "gatZx9HUR08r"
      }
    },
    {
      "cell_type": "code",
      "source": [
        "person1 = 30\n",
        "person2 = 30.5\n",
        "person1 >= 30 and person2 >= 30"
      ],
      "metadata": {
        "id": "6Asbio-JR3Zm"
      },
      "execution_count": null,
      "outputs": []
    },
    {
      "cell_type": "markdown",
      "source": [
        "The boolean answer is `True` because `person1` is greater than or equal to 30 and `person2` is greater or equal to  30. The `and` requires that both conditions are `True.`\n",
        "\n",
        "### Or\n",
        "What will happen if we check whether `person1 > 30` or `person2 > 30`?"
      ],
      "metadata": {
        "id": "uTcOuSQGR4Yj"
      }
    },
    {
      "cell_type": "code",
      "source": [
        "person1 = 30\n",
        "person2 = 30.5\n",
        "person1 > 30 or person2 > 30"
      ],
      "metadata": {
        "id": "Z29_ilEISEFh"
      },
      "execution_count": null,
      "outputs": []
    },
    {
      "cell_type": "markdown",
      "source": [
        "The boolean answer is `True` because `person2` is greater than 30. The `or` requires that only one of the conditions is true."
      ],
      "metadata": {
        "id": "3_6mzR4bSFuX"
      }
    },
    {
      "cell_type": "markdown",
      "source": [
        "## Conditionals\n"
      ],
      "metadata": {
        "id": "tb0O72a2SRid"
      }
    },
    {
      "cell_type": "markdown",
      "source": [
        "### If Statement\n",
        "\n",
        "An `if` statement is an instruction to do something *if* a particular condition is met.\n",
        "\n",
        "A common conditional will consist of two lines:\n",
        "- On the first line, you type the English word `if` followed by an expression and then a colon (`:`)\n",
        "- On the second line, you indent and write an instruction or \"statement\" to be completed if the condition is met"
      ],
      "metadata": {
        "id": "eaYViW5-EfgJ"
      }
    },
    {
      "cell_type": "code",
      "source": [
        "greatest_city = \"New York\""
      ],
      "metadata": {
        "id": "arbk3vmMSV1L"
      },
      "execution_count": null,
      "outputs": []
    },
    {
      "cell_type": "code",
      "source": [
        "if greatest_city == \"New York\":\n",
        "    print(\"That's right!\")"
      ],
      "metadata": {
        "id": "NuYC2U1ISlLt"
      },
      "execution_count": null,
      "outputs": []
    },
    {
      "cell_type": "markdown",
      "source": [
        "Python is picky about how you format `if` statements. Look what happens if we forget to tab over on the second line or if we forget the colon:"
      ],
      "metadata": {
        "id": "4SN3TCkCSycN"
      }
    },
    {
      "cell_type": "code",
      "source": [
        "if greatest_city == \"New York\":\n",
        "print(\"That's right!\")"
      ],
      "metadata": {
        "id": "4SHye6pRSzql"
      },
      "execution_count": null,
      "outputs": []
    },
    {
      "cell_type": "code",
      "source": [
        "if greatest_city == \"New York\"\n",
        "    print(\"That's right!\")"
      ],
      "metadata": {
        "id": "SWPJtnLPS6Y8"
      },
      "execution_count": null,
      "outputs": []
    },
    {
      "cell_type": "markdown",
      "source": [
        "### Else Statement\n",
        "You can add even more complexity in a conditional by adding an `else` statement. This will instruct the program to do something in case the condition is not met. An `else` comes after an `if` statement and should be formatted it the same way."
      ],
      "metadata": {
        "id": "aqCjCQaRTEW8"
      }
    },
    {
      "cell_type": "code",
      "source": [
        "greatest_city = \"Paris\""
      ],
      "metadata": {
        "id": "pPwvNExzTPTx"
      },
      "execution_count": null,
      "outputs": []
    },
    {
      "cell_type": "code",
      "source": [
        "if greatest_city == \"New York\":\n",
        "    print(\"That's right!\")\n",
        "else:\n",
        "    print(\"Prove it!\")"
      ],
      "metadata": {
        "id": "C7awjGJfTV9l"
      },
      "execution_count": null,
      "outputs": []
    },
    {
      "cell_type": "markdown",
      "source": [
        "### Elif Statement\n",
        "\n",
        "Sometimes you want even more nuance to respond to slightly different conditions.\n",
        "\n",
        "You can add in this nuance with an `elif` statement, short for *else if*. The computer will evaluate the first `if` statement. If that statement is not `True`, it will then evaluate the `elif` statement."
      ],
      "metadata": {
        "id": "jXBiNOLHUaJ8"
      }
    },
    {
      "cell_type": "code",
      "source": [
        "greatest_city = \"Paris\""
      ],
      "metadata": {
        "id": "Lc9xO7IQUpVh"
      },
      "execution_count": null,
      "outputs": []
    },
    {
      "cell_type": "code",
      "source": [
        "if greatest_city == \"New York\":\n",
        "    print(\"That's right!\")\n",
        "elif greatest_city == \"Paris\":\n",
        "    print(\"Ok we'll take it!\")\n",
        "else:\n",
        "    print(\"Prove it!\")"
      ],
      "metadata": {
        "id": "8J1OiHb7Upor"
      },
      "execution_count": null,
      "outputs": []
    },
    {
      "cell_type": "markdown",
      "source": [
        "### Input\n",
        "Python allows you to take input directly from the user using the `input()` function.\n",
        "\n",
        "Let's try it out by setting the function to a variable, which we will call greeting. In the line below, write the following line of code:\n",
        "\n",
        "```python\n",
        "greeting = input()\n",
        "```\n",
        "\n",
        "When you press enter, you should see a pop-up asking for input. Type in your favorite greeting. I'm going to type hey you!. Then, press enter."
      ],
      "metadata": {
        "id": "fEnoipDYVeIi"
      }
    },
    {
      "cell_type": "code",
      "source": [
        "greeting = input()"
      ],
      "metadata": {
        "id": "Z8jZ3sPqVthq"
      },
      "execution_count": null,
      "outputs": []
    },
    {
      "cell_type": "markdown",
      "source": [
        "Python has saved your input text to the variable greeting. When you type in greeting, it will print out that input text. Pretty nifty, right?\n",
        "\n",
        "You can add more context to your `input(`) by adding some prompt text within the parentheses. Whatever you put inside the parentheses, enclosed by quotes, will prompt the user to type in their text, which is then assigned to the variable set to `input()`.\n",
        "\n",
        "For instance, if we were to type the following:\n",
        "\n",
        "```python\n",
        "feelings = input('How are you feeling today? ')\n",
        "```\n",
        "We can answer with like a rollercoaster of emotions. Then, when we type in our variable feelings and press enter, we'll get our input printed back at us. Note that there's a little space after the question mark and before the closing quotation mark, which is to improve readability."
      ],
      "metadata": {
        "id": "7LLKIeJ_V3pb"
      }
    },
    {
      "cell_type": "code",
      "source": [
        "feelings = input('How are you feeling today? ')"
      ],
      "metadata": {
        "id": "DCYOfMyCV-bV"
      },
      "execution_count": null,
      "outputs": []
    },
    {
      "cell_type": "code",
      "source": [
        "feelings"
      ],
      "metadata": {
        "id": "iZagOC0KWHTd"
      },
      "execution_count": null,
      "outputs": []
    },
    {
      "cell_type": "markdown",
      "source": [
        "Let's incorporate `input()` into a conditional loop:"
      ],
      "metadata": {
        "id": "nPA9-A6dW2v_"
      }
    },
    {
      "cell_type": "code",
      "source": [
        "feelings = input('How are you feeling today? ')\n",
        "\n",
        "if feelings == \"Great\":\n",
        "  print(\"I'm happy for you!\")\n",
        "elif feelings == \"Sad\":\n",
        "  print(\"Oh no! What can I do to make you feel better?\")\n",
        "else:\n",
        "  print(\"Thanks for sharing!\")\n"
      ],
      "metadata": {
        "id": "dSBfat-rW9GZ"
      },
      "execution_count": null,
      "outputs": []
    },
    {
      "cell_type": "markdown",
      "source": [
        "#### Challenge!\n",
        "\n",
        "Now, that we understand a bit about how `input()` works, let's use it to improve our `greatest_city` application. Use `input()` to ask for the city before displaying the output."
      ],
      "metadata": {
        "id": "yGmNlSg7WMT-"
      }
    },
    {
      "cell_type": "code",
      "source": [
        "#insert input function here\n",
        "\n",
        "if greatest_city == \"New York\":\n",
        "    print(\"That's right!\")\n",
        "elif greatest_city == \"Paris\":\n",
        "    print(\"Ok we'll take it!\")\n",
        "else:\n",
        "    print(\"Prove it!\")"
      ],
      "metadata": {
        "id": "_Fsf_V0IWLNk"
      },
      "execution_count": null,
      "outputs": []
    },
    {
      "cell_type": "markdown",
      "source": [
        "## Common Python Errors"
      ],
      "metadata": {
        "id": "Zgqrxs-l0hAt"
      }
    },
    {
      "cell_type": "markdown",
      "source": [
        "Below are a few common error messages that you will likely encounter as you first learn Python and long afterward. No matter how much you know, you will always encounter errors!\n",
        "\n",
        "To learn more about these and other Python errors, see [Python's official documentation](https://docs.python.org/3/library/exceptions.html#bltin-exceptions)."
      ],
      "metadata": {
        "id": "ywlM8jvDJRS0"
      }
    },
    {
      "cell_type": "markdown",
      "source": [
        "### SyntaxError\n"
      ],
      "metadata": {
        "id": "orWJLsCGJVJs"
      }
    },
    {
      "cell_type": "markdown",
      "source": [
        "A `SyntaxError` means that something has gone wrong with your Python syntax, aka the arrangement of words and punctuation in your code. Often, as below, this error will result from forgetting a closing quotation mark in a string or from forgetting a colon in a `for` loop."
      ],
      "metadata": {
        "id": "sEcJTV5sJZE-"
      }
    },
    {
      "cell_type": "code",
      "source": [
        "print(\"Hope this goes off without a hitch!)"
      ],
      "metadata": {
        "id": "LpS6_7TLJa8Y"
      },
      "execution_count": null,
      "outputs": []
    },
    {
      "cell_type": "code",
      "source": [
        "for item in items\n",
        "    print(item)"
      ],
      "metadata": {
        "id": "ZjtHvKMxJgZd"
      },
      "execution_count": null,
      "outputs": []
    },
    {
      "cell_type": "markdown",
      "source": [
        "The error message will often include a caret or arrow that points to the problematic part of the code."
      ],
      "metadata": {
        "id": "PKGsAi5kJcAw"
      }
    },
    {
      "cell_type": "markdown",
      "source": [
        "### FileNotFound Error\n",
        "A `FileNotFoundError` means that whatever file name you've typed in cannot be located. Often, this error will result from simple typos in the file name or from not pointing to the correct directory which contains the file. Double check your spelling and where your desired file is located relative to your Python code."
      ],
      "metadata": {
        "id": "hpkBYbWaJlX6"
      }
    },
    {
      "cell_type": "code",
      "source": [
        "open('../Wrong-Directory/File-Name.txt').read()"
      ],
      "metadata": {
        "id": "DryA7p6TJuq9"
      },
      "execution_count": null,
      "outputs": []
    },
    {
      "cell_type": "markdown",
      "source": [
        "### TypeError\n",
        "A `TypeError` means that you're trying to perform a function or operation on something that is not the correct data type for that function or operation. For example, if you try to divide by a variable that is a string, rather than an integer or float (as in the example below), a `TypeError` will be thrown. Double check your data types with the `type()` function."
      ],
      "metadata": {
        "id": "fJiqin0rJs4i"
      }
    },
    {
      "cell_type": "code",
      "source": [
        "favorite_city = \"New York\""
      ],
      "metadata": {
        "id": "pTOzBUAmJ3ts"
      },
      "execution_count": null,
      "outputs": []
    },
    {
      "cell_type": "code",
      "source": [
        "favorite_city / 2"
      ],
      "metadata": {
        "id": "2UdeZUo8J5BO"
      },
      "execution_count": null,
      "outputs": []
    },
    {
      "cell_type": "code",
      "source": [
        "type(favorite_city)"
      ],
      "metadata": {
        "id": "n6LdGH5xJ8wG"
      },
      "execution_count": null,
      "outputs": []
    },
    {
      "cell_type": "markdown",
      "source": [
        "### NameError\n",
        "\n",
        "A `NameError` means that the variable name that you're using cannot be found. Often, this error results from forgetting to run the cell that defines your variable or from misspelling the name of your variable, as below. Check your spelling and make sure you've run all necessary cells."
      ],
      "metadata": {
        "id": "70hngInPJ_Oe"
      }
    },
    {
      "cell_type": "code",
      "source": [
        "favorite_city = \"New York\""
      ],
      "metadata": {
        "id": "ApkuxEwiKEz3"
      },
      "execution_count": null,
      "outputs": []
    },
    {
      "cell_type": "code",
      "source": [
        "favorite_citee"
      ],
      "metadata": {
        "id": "hRQ6dWijKG3n"
      },
      "execution_count": null,
      "outputs": []
    },
    {
      "cell_type": "markdown",
      "source": [
        "### AttributeError\n",
        "An `AttributeError` means that you're trying to access something from an object that that object doesn't possess or do something with an object that that object cannot do. For example, to transform the variable `favorite_artist` (which contains the string \"Beyoncé\") from title case to uppercase, we can run `favorite_arist.upper()` because `.upper()` is a built-in string method. But if we forget the name of that string method and instead type `.uppercase()`, which is not an existing string method, then an `AttributeError` will be raised."
      ],
      "metadata": {
        "id": "9EBmUo-gKJm6"
      }
    },
    {
      "cell_type": "code",
      "source": [
        "favorite_city.upper()"
      ],
      "metadata": {
        "id": "4Z0-s35RKNeC"
      },
      "execution_count": null,
      "outputs": []
    },
    {
      "cell_type": "code",
      "source": [
        "favorite_city.uppercase()"
      ],
      "metadata": {
        "id": "7zosEgAYKQ2l"
      },
      "execution_count": null,
      "outputs": []
    }
  ]
}